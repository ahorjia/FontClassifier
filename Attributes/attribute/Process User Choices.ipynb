{
 "cells": [
  {
   "cell_type": "code",
   "execution_count": null,
   "metadata": {
    "collapsed": true
   },
   "outputs": [],
   "source": [
    "import pandas as pd\n",
    "from pandas import DataFrame, Series\n",
    "import numpy as np"
   ]
  },
  {
   "cell_type": "code",
   "execution_count": null,
   "metadata": {
    "collapsed": false
   },
   "outputs": [],
   "source": [
    "uc_df = pd.read_csv(\"./attributeData/userChoices.csv\")\n",
    "uc_df.columns = ['attribute', 'hit_id', 'user_id', 'font_a_name', 'font_b_name', 'user_choice']"
   ]
  },
  {
   "cell_type": "code",
   "execution_count": null,
   "metadata": {
    "collapsed": false
   },
   "outputs": [],
   "source": [
    "uc_df.head()"
   ]
  },
  {
   "cell_type": "code",
   "execution_count": null,
   "metadata": {
    "collapsed": false
   },
   "outputs": [],
   "source": [
    "unique_font_a_names = uc_df.font_a_name.unique()\n",
    "unique_font_b_names = uc_df.font_b_name.unique()\n",
    "unique_attributes = uc_df.attribute.unique()\n",
    "\n",
    "number_of_unique_font_a = len(unique_font_a_names)\n",
    "number_of_unique_font_b = len(unique_font_b_names)\n",
    "number_of_unique_attributes = len(unique_attributes)\n",
    "\n",
    "print(number_of_unique_font_a)\n",
    "print(number_of_unique_font_b)\n",
    "print(number_of_unique_attributes)\n",
    "\n",
    "np.array_equal(np.sort(unique_font_a_names), np.sort(unique_font_b_names))"
   ]
  },
  {
   "cell_type": "code",
   "execution_count": null,
   "metadata": {
    "collapsed": false
   },
   "outputs": [],
   "source": [
    "number_of_unique_users = len(uc_df.user_id.unique())\n",
    "print(number_of_unique_users)"
   ]
  },
  {
   "cell_type": "code",
   "execution_count": null,
   "metadata": {
    "collapsed": false
   },
   "outputs": [],
   "source": [
    "def get_unique_dict(unique_values):\n",
    "    tmp_dict = dict(enumerate(unique_values))\n",
    "    return dict((y,x) for x, y in tmp_dict.iteritems())"
   ]
  },
  {
   "cell_type": "code",
   "execution_count": null,
   "metadata": {
    "collapsed": false
   },
   "outputs": [],
   "source": [
    "font_name_dict = get_unique_dict(unique_font_a_names)\n",
    "attribute_dict = get_unique_dict(unique_attributes)"
   ]
  },
  {
   "cell_type": "code",
   "execution_count": null,
   "metadata": {
    "collapsed": false
   },
   "outputs": [],
   "source": [
    "df2 = uc_df.replace({'font_a_name' : font_name_dict})\n",
    "df2 = df2.replace({'font_b_name' : font_name_dict})"
   ]
  },
  {
   "cell_type": "code",
   "execution_count": null,
   "metadata": {
    "collapsed": false
   },
   "outputs": [],
   "source": [
    "df2.head()"
   ]
  },
  {
   "cell_type": "code",
   "execution_count": null,
   "metadata": {
    "collapsed": true
   },
   "outputs": [],
   "source": []
  }
 ],
 "metadata": {
  "kernelspec": {
   "display_name": "Python 2",
   "language": "python",
   "name": "python2"
  },
  "language_info": {
   "codemirror_mode": {
    "name": "ipython",
    "version": 2
   },
   "file_extension": ".py",
   "mimetype": "text/x-python",
   "name": "python",
   "nbconvert_exporter": "python",
   "pygments_lexer": "ipython2",
   "version": "2.7.13"
  }
 },
 "nbformat": 4,
 "nbformat_minor": 2
}
