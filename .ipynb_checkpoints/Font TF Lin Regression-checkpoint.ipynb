{
 "cells": [
  {
   "cell_type": "code",
   "execution_count": 1,
   "metadata": {
    "collapsed": true
   },
   "outputs": [],
   "source": [
    "import tensorflow as tf\n"
   ]
  },
  {
   "cell_type": "code",
   "execution_count": 2,
   "metadata": {
    "collapsed": false
   },
   "outputs": [
    {
     "data": {
      "text/plain": [
       "'\\nOn Matrices\\n\\ntf.diag\\ntf.transpose\\ntf.matmul\\ntf.matrix_determinant\\ntf.matrix_inverse\\n'"
      ]
     },
     "execution_count": 2,
     "metadata": {},
     "output_type": "execute_result"
    }
   ],
   "source": [
    "#Symbolic variables\n",
    "a = tf.placeholder(\"float\")\n",
    "b = tf.placeholder(\"float\")\n",
    "\n",
    "y = tf.mul(a, b)\n",
    "\n",
    "'''\n",
    "tf.add\n",
    "tf.sub\n",
    "tf.mul\n",
    "tf.div\n",
    "tf.mod\n",
    "tf.abs\n",
    "tf.neg\n",
    "tf.sign\n",
    "tf.inv\n",
    "tf.square\n",
    "tf.round\n",
    "tf.sqrt\n",
    "tf.pow\n",
    "tf.exp\n",
    "tf.log\n",
    "tf.maximum\n",
    "tf.minimum\n",
    "tf.cos\n",
    "tf.sin\n",
    "'''\n",
    "\n",
    "'''\n",
    "On Matrices\n",
    "\n",
    "tf.diag\n",
    "tf.transpose\n",
    "tf.matmul\n",
    "tf.matrix_determinant\n",
    "tf.matrix_inverse\n",
    "'''\n"
   ]
  },
  {
   "cell_type": "code",
   "execution_count": 3,
   "metadata": {
    "collapsed": false
   },
   "outputs": [
    {
     "name": "stdout",
     "output_type": "stream",
     "text": [
      "12.0\n"
     ]
    }
   ],
   "source": [
    "sess = tf.Session()\n",
    "\n",
    "# feed_dict to specify input values\n",
    "\n",
    "print(sess.run(y, feed_dict={a:3, b:4}))"
   ]
  },
  {
   "cell_type": "code",
   "execution_count": 4,
   "metadata": {
    "collapsed": true
   },
   "outputs": [],
   "source": [
    "# Linear Regression\n",
    "import numpy as np\n",
    "num_points = 1000\n",
    "vector_set = []\n",
    "\n",
    "for i in xrange(num_points):\n",
    "    x1 = np.random.normal(0.0, 0.55)\n",
    "    y1 = x1 * 0.1 + 0.3 + np.random.normal(0.0, 0.03)\n",
    "\n",
    "    vector_set.append([x1, y1])"
   ]
  },
  {
   "cell_type": "code",
   "execution_count": 5,
   "metadata": {
    "collapsed": false
   },
   "outputs": [
    {
     "name": "stdout",
     "output_type": "stream",
     "text": [
      "('x_data.shape', 1000)\n",
      "('v[0]', -0.7919456274599356)\n"
     ]
    }
   ],
   "source": [
    "x_data = [v[0] for v in vector_set]\n",
    "y_data = [v[1] for v in vector_set]\n",
    "\n",
    "print(\"x_data.shape\", len(x_data))\n",
    "print(\"v[0]\", x_data[0])"
   ]
  },
  {
   "cell_type": "code",
   "execution_count": 6,
   "metadata": {
    "collapsed": false
   },
   "outputs": [],
   "source": [
    "import matplotlib.pyplot as plt\n",
    "\n",
    "W = tf.Variable(tf.random_uniform([1], -1.0, 1.0))\n",
    "b = tf.Variable(tf.zeros([1]))\n",
    "\n",
    "y = W * x_data + b\n",
    "\n",
    "loss = tf.reduce_mean(tf.square(y - y_data))"
   ]
  },
  {
   "cell_type": "code",
   "execution_count": 7,
   "metadata": {
    "collapsed": true
   },
   "outputs": [],
   "source": [
    "# Gradient Descent\n",
    "optimizer = tf.train.GradientDescentOptimizer(0.5)\n",
    "train = optimizer.minimize(loss)"
   ]
  },
  {
   "cell_type": "code",
   "execution_count": 8,
   "metadata": {
    "collapsed": true
   },
   "outputs": [],
   "source": [
    "# Run\n",
    "init = tf.initialize_all_variables()\n",
    "\n",
    "sess = tf.Session()\n",
    "sess.run(init)"
   ]
  },
  {
   "cell_type": "code",
   "execution_count": 9,
   "metadata": {
    "collapsed": false
   },
   "outputs": [
    {
     "name": "stdout",
     "output_type": "stream",
     "text": [
      "0.00492019\n",
      "0 [ 0.22057909] [ 0.29651415]\n",
      "0.00295277\n",
      "1 [ 0.18672305] [ 0.29717582]\n",
      "0.00194477\n",
      "2 [ 0.16249126] [ 0.29772815]\n",
      "0.00142833\n",
      "3 [ 0.14514653] [ 0.29812345]\n",
      "0.00116373\n",
      "4 [ 0.13273147] [ 0.29840639]\n",
      "0.00102816\n",
      "5 [ 0.12384496] [ 0.29860893]\n",
      "0.000958707\n",
      "6 [ 0.11748414] [ 0.29875389]\n",
      "0.000923121\n",
      "7 [ 0.11293118] [ 0.29885766]\n",
      "0.000904889\n",
      "8 [ 0.10967224] [ 0.29893193]\n",
      "0.000895548\n",
      "9 [ 0.10733955] [ 0.29898509]\n",
      "0.000890762\n",
      "10 [ 0.10566984] [ 0.29902315]\n",
      "0.00088831\n",
      "11 [ 0.10447469] [ 0.29905039]\n",
      "0.000887053\n",
      "12 [ 0.10361923] [ 0.29906988]\n",
      "0.00088641\n",
      "13 [ 0.10300689] [ 0.29908386]\n",
      "0.00088608\n",
      "14 [ 0.1025686] [ 0.29909384]\n",
      "0.000885911\n",
      "15 [ 0.10225488] [ 0.299101]\n",
      "0.000885825\n",
      "16 [ 0.10203031] [ 0.29910612]\n",
      "0.00088578\n",
      "17 [ 0.10186958] [ 0.29910976]\n",
      "0.000885757\n",
      "18 [ 0.10175452] [ 0.29911238]\n",
      "0.000885746\n",
      "19 [ 0.10167217] [ 0.29911426]\n",
      "0.00088574\n",
      "20 [ 0.10161322] [ 0.29911563]\n",
      "0.000885737\n",
      "21 [ 0.10157103] [ 0.29911658]\n",
      "0.000885735\n",
      "22 [ 0.10154083] [ 0.29911727]\n",
      "0.000885734\n",
      "23 [ 0.10151922] [ 0.29911774]\n",
      "0.000885734\n",
      "24 [ 0.10150374] [ 0.2991181]\n",
      "0.000885734\n",
      "25 [ 0.10149267] [ 0.29911837]\n",
      "0.000885733\n",
      "26 [ 0.10148474] [ 0.29911855]\n",
      "0.000885734\n",
      "27 [ 0.10147906] [ 0.29911867]\n",
      "0.000885733\n",
      "28 [ 0.101475] [ 0.29911876]\n",
      "0.000885734\n",
      "29 [ 0.10147209] [ 0.29911882]\n",
      "0.000885733\n",
      "30 [ 0.10147002] [ 0.29911888]\n",
      "0.000885733\n",
      "31 [ 0.10146853] [ 0.29911891]\n",
      "0.000885734\n",
      "32 [ 0.10146746] [ 0.29911894]\n",
      "0.000885733\n",
      "33 [ 0.1014667] [ 0.29911897]\n",
      "0.000885733\n",
      "34 [ 0.10146616] [ 0.29911897]\n",
      "0.000885733\n",
      "35 [ 0.10146576] [ 0.29911897]\n",
      "0.000885733\n",
      "36 [ 0.10146548] [ 0.29911897]\n",
      "0.000885733\n",
      "37 [ 0.10146528] [ 0.299119]\n",
      "0.000885733\n",
      "38 [ 0.10146514] [ 0.299119]\n",
      "0.000885733\n",
      "39 [ 0.10146503] [ 0.299119]\n"
     ]
    }
   ],
   "source": [
    "for step in xrange(40):\n",
    "    sess.run(train)\n",
    "#     print sess.run(loss)\n",
    "#     print step, sess.run(W), sess.run(b)"
   ]
  },
  {
   "cell_type": "code",
   "execution_count": null,
   "metadata": {
    "collapsed": false
   },
   "outputs": [
    {
     "name": "stderr",
     "output_type": "stream",
     "text": [
      "/usr/local/lib/python2.7/dist-packages/matplotlib/axes/_axes.py:531: UserWarning: No labelled objects found. Use label='...' kwarg on individual plots.\n",
      "  warnings.warn(\"No labelled objects found. \"\n"
     ]
    },
    {
     "data": {
      "image/png": "[encoded data removed]",
      "text/plain": [
       "<matplotlib.figure.Figure at 0x7f449dc7d4d0>"
      ]
     },
     "metadata": {},
     "output_type": "display_data"
    }
   ],
   "source": [
    "plt.plot(x_data, y_data, 'ro')\n",
    "plt.plot(x_data, sess.run(W) * x_data + sess.run(b))\n",
    "plt.legend()\n",
    "plt.show()"
   ]
  },
  {
   "cell_type": "code",
   "execution_count": null,
   "metadata": {
    "collapsed": false
   },
   "outputs": [
    {
     "name": "stdout",
     "output_type": "stream",
     "text": [
      "('List of arrays in this file: \\n', [u'fonts'])\n"
     ]
    }
   ],
   "source": [
    "import numpy as np\n",
    "import h5py\n",
    "\n",
    "with h5py.File('../fonts.hdf5','r') as hf:\n",
    "    print('List of arrays in this file: \\n', hf.keys())\n",
    "    data = hf.get('fonts')\n",
    "    \n",
    "    smallDataSize = 10000\n",
    "\n",
    "    As = data[:smallDataSize,0,:,:]\n",
    "    Bs = data[:smallDataSize,1,:,:]\n",
    "\n",
    "    As_reshaped = As.reshape((smallDataSize, 64*64))\n",
    "    Bs_reshaped = Bs.reshape((smallDataSize, 64*64))\n",
    "\n",
    "    print(\"As.shape\", As.shape)\n",
    "    print(\"Bs.shape\", Bs.shape)\n",
    "    \n",
    "    print(\"As_reshaped.shape\", As_reshaped.shape)\n",
    "    print(\"Bs_reshaped.shape\", Bs_reshaped.shape)"
   ]
  },
  {
   "cell_type": "code",
   "execution_count": null,
   "metadata": {
    "collapsed": false
   },
   "outputs": [],
   "source": [
    "training_size = (int)(smallDataSize * 0.90)\n",
    "test_size = smallDataSize - training_size\n",
    "\n",
    "print(\"training_size\", training_size)\n",
    "print(\"test_size\", test_size)\n",
    "As_reshaped_training = As_reshaped[:training_size, :]\n",
    "Bs_reshaped_training = Bs_reshaped[:training_size, :]\n",
    "\n",
    "As_reshaped_test = As_reshaped[training_size:, :]\n",
    "Bs_reshaped_test = Bs_reshaped[training_size:, :]\n",
    "\n",
    "print(\"As_reshaped_training.shape\", As_reshaped_training.shape)\n",
    "print(\"Bs_reshaped_training.shape\", Bs_reshaped_training.shape)\n",
    "print(\"As_reshaped_test.shape\", As_reshaped_test.shape)\n",
    "print(\"Bs_reshaped_test.shape\", Bs_reshaped_test.shape)"
   ]
  },
  {
   "cell_type": "code",
   "execution_count": null,
   "metadata": {
    "collapsed": false
   },
   "outputs": [],
   "source": [
    "Bs_reshaped_training_firstBit = Bs_reshaped_training[:, 0]\n",
    "print(\"Bs_reshaped_training_firstBit.shape\", Bs_reshaped_training_firstBit.shape)\n",
    "\n",
    "Bs_reshaped_test_firstBit = Bs_reshaped_test[:, 0]\n",
    "print(\"Bs_reshaped_test_firstBit.shape\", Bs_reshaped_test_firstBit.shape)\n",
    "\n",
    "final_training = As_reshaped_training.astype(float)\n",
    "\n",
    "final_target = Bs_reshaped_training_firstBit.astype(float)"
   ]
  },
  {
   "cell_type": "code",
   "execution_count": null,
   "metadata": {
    "collapsed": false
   },
   "outputs": [],
   "source": [
    "X1 = tf.placeholder(tf.float32, [None, 64 * 64])\n",
    "W1 = tf.Variable(tf.zeros([4096, 1]))\n",
    "b1 = tf.Variable(tf.zeros([1]))\n",
    "\n",
    "y1 = tf.matmul(X1, W1) + b1\n",
    "\n",
    "loss = tf.reduce_mean(tf.square(y1 - final_target))\n",
    "\n",
    "# Gradient Descent\n",
    "optimizer = tf.train.GradientDescentOptimizer(0.00000005)\n",
    "train = optimizer.minimize(loss)\n",
    "\n",
    "# Run\n",
    "init = tf.initialize_all_variables()\n",
    "\n",
    "sess = tf.Session()\n",
    "sess.run(init, feed_dict={X1:final_training})\n",
    "\n",
    "for step in xrange(40):\n",
    "    _, loss_val = sess.run([train, loss], feed_dict={X1:final_training})\n",
    "print(loss_val)\n"
   ]
  },
  {
   "cell_type": "code",
   "execution_count": null,
   "metadata": {
    "collapsed": true
   },
   "outputs": [],
   "source": [
    "# Gradient Descent\n",
    "optimizer = tf.train.GradientDescentOptimizer(0.5)\n",
    "train = optimizer.minimize(loss)"
   ]
  },
  {
   "cell_type": "code",
   "execution_count": null,
   "metadata": {
    "collapsed": true
   },
   "outputs": [],
   "source": [
    "# Run\n",
    "init = tf.initialize_all_variables()\n",
    "\n",
    "sess = tf.Session()\n",
    "sess.run(init)"
   ]
  },
  {
   "cell_type": "code",
   "execution_count": null,
   "metadata": {
    "collapsed": true
   },
   "outputs": [],
   "source": [
    "for step in xrange(40):\n",
    "    sess.run(train)\n",
    "    print sess.run(loss)\n",
    "    print step, sess.run(W), sess.run(b)"
   ]
  }
 ],
 "metadata": {
  "kernelspec": {
   "display_name": "Python 2",
   "language": "python",
   "name": "python2"
  },
  "language_info": {
   "codemirror_mode": {
    "name": "ipython",
    "version": 2
   },
   "file_extension": ".py",
   "mimetype": "text/x-python",
   "name": "python",
   "nbconvert_exporter": "python",
   "pygments_lexer": "ipython2",
   "version": "2.7.12"
  }
 },
 "nbformat": 4,
 "nbformat_minor": 0
}
