{
 "cells": [
  {
   "cell_type": "markdown",
   "metadata": {
    "collapsed": true
   },
   "source": [
    "# Sample classifier with scikit"
   ]
  },
  {
   "cell_type": "code",
   "execution_count": 1,
   "metadata": {
    "collapsed": false
   },
   "outputs": [],
   "source": [
    "from sklearn import datasets\n",
    "iris = datasets.load_iris()\n",
    "digits = datasets.load_digits()"
   ]
  },
  {
   "cell_type": "code",
   "execution_count": 2,
   "metadata": {
    "collapsed": false
   },
   "outputs": [
    {
     "name": "stdout",
     "output_type": "stream",
     "text": [
      "(1797, 64)\n",
      "(1797,)\n",
      "(1797, 8, 8)\n",
      "[[  0.   0.   1.   9.  15.  11.   0.   0.]\n",
      " [  0.   0.  11.  16.   8.  14.   6.   0.]\n",
      " [  0.   2.  16.  10.   0.   9.   9.   0.]\n",
      " [  0.   1.  16.   4.   0.   8.   8.   0.]\n",
      " [  0.   4.  16.   4.   0.   8.   8.   0.]\n",
      " [  0.   1.  16.   5.   1.  11.   3.   0.]\n",
      " [  0.   0.  12.  12.  10.  10.   0.   0.]\n",
      " [  0.   0.   1.  10.  13.   3.   0.   0.]]\n"
     ]
    }
   ],
   "source": [
    "print(digits.data.shape)\n",
    "print(digits.target.shape)\n",
    "print(digits.images.shape)\n",
    "print(digits.images[10])"
   ]
  },
  {
   "cell_type": "code",
   "execution_count": 3,
   "metadata": {
    "collapsed": true
   },
   "outputs": [],
   "source": [
    "from sklearn import svm\n",
    "clf = svm.SVC(gamma = 0.001, C=100.)"
   ]
  },
  {
   "cell_type": "code",
   "execution_count": 4,
   "metadata": {
    "collapsed": false
   },
   "outputs": [
    {
     "data": {
      "text/plain": [
       "SVC(C=100.0, cache_size=200, class_weight=None, coef0=0.0,\n",
       "  decision_function_shape=None, degree=3, gamma=0.001, kernel='rbf',\n",
       "  max_iter=-1, probability=False, random_state=None, shrinking=True,\n",
       "  tol=0.001, verbose=False)"
      ]
     },
     "execution_count": 4,
     "metadata": {},
     "output_type": "execute_result"
    }
   ],
   "source": [
    "# Train\n",
    "clf.fit(digits.data[:-1], digits.target[:-1])"
   ]
  },
  {
   "cell_type": "code",
   "execution_count": 5,
   "metadata": {
    "collapsed": false
   },
   "outputs": [
    {
     "name": "stdout",
     "output_type": "stream",
     "text": [
      "[8]\n"
     ]
    }
   ],
   "source": [
    "# Predict\n",
    "predVal = clf.predict(digits.data[-1:])\n",
    "print(predVal)"
   ]
  },
  {
   "cell_type": "code",
   "execution_count": 6,
   "metadata": {
    "collapsed": false
   },
   "outputs": [
    {
     "name": "stdout",
     "output_type": "stream",
     "text": [
      "[8]\n"
     ]
    }
   ],
   "source": [
    "print(digits.target[-1:])"
   ]
  },
  {
   "cell_type": "markdown",
   "metadata": {},
   "source": [
    "# Read and parse font file"
   ]
  },
  {
   "cell_type": "code",
   "execution_count": 7,
   "metadata": {
    "collapsed": false
   },
   "outputs": [],
   "source": [
    "from fontTools.ttLib import TTFont\n",
    "font = TTFont('corbel_font.ttf')"
   ]
  },
  {
   "cell_type": "markdown",
   "metadata": {},
   "source": [
    "## Reference\n",
    "* http://pyopengl.sourceforge.net/pydoc/fontTools.ttLib.html\n",
    "* https://searchcode.com/codesearch/view/86910536/"
   ]
  },
  {
   "cell_type": "code",
   "execution_count": 8,
   "metadata": {
    "collapsed": false
   },
   "outputs": [
    {
     "name": "stdout",
     "output_type": "stream",
     "text": [
      "1201\n",
      "Ccaron\n"
     ]
    }
   ],
   "source": [
    "print(len(font.getGlyphNames()))\n",
    "print(font.getGlyphNames()[20])"
   ]
  },
  {
   "cell_type": "code",
   "execution_count": 9,
   "metadata": {
    "collapsed": false
   },
   "outputs": [
    {
     "data": {
      "text/plain": [
       "['GlyphOrder',\n",
       " 'head',\n",
       " 'hhea',\n",
       " 'maxp',\n",
       " 'OS/2',\n",
       " 'hmtx',\n",
       " 'cmap',\n",
       " 'fpgm',\n",
       " 'prep',\n",
       " 'cvt ',\n",
       " 'loca',\n",
       " 'glyf',\n",
       " 'kern',\n",
       " 'name',\n",
       " 'post',\n",
       " 'gasp',\n",
       " 'GDEF',\n",
       " 'GPOS',\n",
       " 'GSUB',\n",
       " 'DSIG']"
      ]
     },
     "execution_count": 9,
     "metadata": {},
     "output_type": "execute_result"
    }
   ],
   "source": [
    "font.keys()"
   ]
  },
  {
   "cell_type": "code",
   "execution_count": 10,
   "metadata": {
    "collapsed": false
   },
   "outputs": [
    {
     "name": "stdout",
     "output_type": "stream",
     "text": [
      "44\n"
     ]
    }
   ],
   "source": [
    "print(font.getGlyphID('Ccaron'))"
   ]
  },
  {
   "cell_type": "code",
   "execution_count": 11,
   "metadata": {
    "collapsed": false
   },
   "outputs": [],
   "source": [
    "len(font.getGlyphOrder())\n",
    "mp = font.getGlyphSet()"
   ]
  },
  {
   "cell_type": "code",
   "execution_count": 12,
   "metadata": {
    "collapsed": false
   },
   "outputs": [
    {
     "data": {
      "text/plain": [
       "<fontTools.ttLib._TTGlyphSet at 0x7f0b186ca350>"
      ]
     },
     "execution_count": 12,
     "metadata": {},
     "output_type": "execute_result"
    }
   ],
   "source": [
    "mp"
   ]
  },
  {
   "cell_type": "code",
   "execution_count": 13,
   "metadata": {
    "collapsed": false
   },
   "outputs": [
    {
     "data": {
      "text/plain": [
       "['GlyphOrder',\n",
       " 'head',\n",
       " 'hhea',\n",
       " 'maxp',\n",
       " 'OS/2',\n",
       " 'hmtx',\n",
       " 'cmap',\n",
       " 'fpgm',\n",
       " 'prep',\n",
       " 'cvt ',\n",
       " 'loca',\n",
       " 'glyf',\n",
       " 'kern',\n",
       " 'name',\n",
       " 'post',\n",
       " 'gasp',\n",
       " 'GDEF',\n",
       " 'GPOS',\n",
       " 'GSUB',\n",
       " 'DSIG']"
      ]
     },
     "execution_count": 13,
     "metadata": {},
     "output_type": "execute_result"
    }
   ],
   "source": [
    "font.keys()"
   ]
  },
  {
   "cell_type": "code",
   "execution_count": 14,
   "metadata": {
    "collapsed": false
   },
   "outputs": [
    {
     "data": {
      "text/plain": [
       "1201"
      ]
     },
     "execution_count": 14,
     "metadata": {},
     "output_type": "execute_result"
    }
   ],
   "source": [
    "len(mp.keys())"
   ]
  },
  {
   "cell_type": "code",
   "execution_count": 15,
   "metadata": {
    "collapsed": false
   },
   "outputs": [],
   "source": [
    "aGlyph = mp['A']"
   ]
  },
  {
   "cell_type": "code",
   "execution_count": 16,
   "metadata": {
    "collapsed": false
   },
   "outputs": [
    {
     "data": {
      "text/plain": [
       "<fontTools.ttLib._TTGlyphGlyf at 0x7f0b186ca750>"
      ]
     },
     "execution_count": 16,
     "metadata": {},
     "output_type": "execute_result"
    }
   ],
   "source": [
    "aGlyph"
   ]
  },
  {
   "cell_type": "code",
   "execution_count": 17,
   "metadata": {
    "collapsed": false
   },
   "outputs": [
    {
     "data": {
      "text/plain": [
       "[('__init__',\n",
       "  <bound method _TTGlyphGlyf.__init__ of <fontTools.ttLib._TTGlyphGlyf object at 0x7f0b186ca750>>),\n",
       " ('draw',\n",
       "  <bound method _TTGlyphGlyf.draw of <fontTools.ttLib._TTGlyphGlyf object at 0x7f0b186ca750>>)]"
      ]
     },
     "execution_count": 17,
     "metadata": {},
     "output_type": "execute_result"
    }
   ],
   "source": [
    "import inspect\n",
    "inspect.getmembers(aGlyph, predicate=inspect.ismethod)"
   ]
  },
  {
   "cell_type": "code",
   "execution_count": 18,
   "metadata": {
    "collapsed": false
   },
   "outputs": [
    {
     "data": {
      "text/plain": [
       "<'cmap' table at 7f0b186ca6d0>"
      ]
     },
     "execution_count": 18,
     "metadata": {},
     "output_type": "execute_result"
    }
   ],
   "source": [
    "cmap = font['cmap']\n",
    "cmap"
   ]
  },
  {
   "cell_type": "code",
   "execution_count": 19,
   "metadata": {
    "collapsed": false
   },
   "outputs": [
    {
     "data": {
      "text/plain": [
       "[('__eq__',\n",
       "  <bound method table__c_m_a_p.__eq__ of <'cmap' table at 7f0b186ca6d0>>),\n",
       " ('__init__',\n",
       "  <bound method table__c_m_a_p.__init__ of <'cmap' table at 7f0b186ca6d0>>),\n",
       " ('__ne__',\n",
       "  <bound method table__c_m_a_p.__ne__ of <'cmap' table at 7f0b186ca6d0>>),\n",
       " ('__repr__',\n",
       "  <bound method table__c_m_a_p.__repr__ of <'cmap' table at 7f0b186ca6d0>>),\n",
       " ('buildReversed',\n",
       "  <bound method table__c_m_a_p.buildReversed of <'cmap' table at 7f0b186ca6d0>>),\n",
       " ('compile',\n",
       "  <bound method table__c_m_a_p.compile of <'cmap' table at 7f0b186ca6d0>>),\n",
       " ('decompile',\n",
       "  <bound method table__c_m_a_p.decompile of <'cmap' table at 7f0b186ca6d0>>),\n",
       " ('fromXML',\n",
       "  <bound method table__c_m_a_p.fromXML of <'cmap' table at 7f0b186ca6d0>>),\n",
       " ('getcmap',\n",
       "  <bound method table__c_m_a_p.getcmap of <'cmap' table at 7f0b186ca6d0>>),\n",
       " ('toXML',\n",
       "  <bound method table__c_m_a_p.toXML of <'cmap' table at 7f0b186ca6d0>>)]"
      ]
     },
     "execution_count": 19,
     "metadata": {},
     "output_type": "execute_result"
    }
   ],
   "source": [
    "inspect.getmembers(cmap, predicate=inspect.ismethod)"
   ]
  },
  {
   "cell_type": "code",
   "execution_count": 20,
   "metadata": {
    "collapsed": false
   },
   "outputs": [
    {
     "name": "stdout",
     "output_type": "stream",
     "text": [
      "0\n",
      "3\n",
      "0\n",
      "======================\n",
      "1\n",
      "0\n",
      "0\n",
      "======================\n",
      "3\n",
      "1\n",
      "0\n",
      "======================\n"
     ]
    }
   ],
   "source": [
    "for table in cmap.tables:\n",
    "    print(table.platformID)\n",
    "    print(table.platEncID)\n",
    "    print(table.language)\n",
    "#     print(table.cmap)\n",
    "    print(\"======================\")\n",
    "    "
   ]
  },
  {
   "cell_type": "code",
   "execution_count": 21,
   "metadata": {
    "collapsed": false
   },
   "outputs": [
    {
     "name": "stdout",
     "output_type": "stream",
     "text": [
      "A\n",
      "A\n"
     ]
    }
   ],
   "source": [
    "tabl1 = cmap.tables[0]\n",
    "# inspect.getmembers(tabl1)\n",
    "print(tabl1.cmap[65])\n",
    "\n",
    "tabl2 = cmap.tables[0]\n",
    "print(tabl2.cmap[65])\n"
   ]
  },
  {
   "cell_type": "markdown",
   "metadata": {},
   "source": [
    "From cmap get the glyphid from character id"
   ]
  },
  {
   "cell_type": "code",
   "execution_count": 22,
   "metadata": {
    "collapsed": false
   },
   "outputs": [
    {
     "name": "stdout",
     "output_type": "stream",
     "text": [
      "<fontTools.ttLib.tables._g_l_y_f.Glyph object at 0x7f0b1846dc10>\n"
     ]
    }
   ],
   "source": [
    "from fontTools.pens.ttGlyphPen import TTGlyphPen\n",
    "pen = TTGlyphPen(font.getGlyphSet())\n",
    "aGlyph.draw(pen)\n",
    "print(aGlyph._glyph)"
   ]
  },
  {
   "cell_type": "code",
   "execution_count": 23,
   "metadata": {
    "collapsed": false
   },
   "outputs": [],
   "source": [
    "from __future__ import print_function, division, absolute_import\n",
    "from fontTools.misc.py23 import *\n",
    "\n",
    "import sympy as sp\n",
    "import math\n",
    "from fontTools.pens.basePen import BasePen\n",
    "from fontTools.pens.transformPen import TransformPen\n",
    "from fontTools.pens.perimeterPen import PerimeterPen\n",
    "from fontTools.pens.areaPen import AreaPen\n",
    "from fontTools.misc.transform import Scale\n",
    "from fontTools.misc.bezierTools import splitQuadraticAtT, splitCubicAtT\n",
    "from functools import partial\n",
    "\n",
    "n = 3 # Max Bezier degree; 3 for cubic, 2 for quadratic\n",
    "\n",
    "t, x, y = sp.symbols('t x y', real=True)\n",
    "\n",
    "P = tuple(zip(*(sp.symbols('%s:%d'%(w,n+1), real=True) for w in 'xy')))\n",
    "\n",
    "# Cubic Bernstein basis functions\n",
    "BinomialCoefficient = [(1, 0)]\n",
    "for i in range(1, n+1):\n",
    "    last = BinomialCoefficient[-1]\n",
    "    this = tuple(last[j-1]+last[j] for j in range(len(last)))+(0,)\n",
    "    BinomialCoefficient.append(this)\n",
    "BinomialCoefficient = tuple(tuple(item[:-1]) for item in BinomialCoefficient)\n",
    "\n",
    "BernsteinPolynomial = tuple(\n",
    "    tuple(c * t**i * (1-t)**(n-i) for i,c in enumerate(coeffs))\n",
    "    for n,coeffs in enumerate(BinomialCoefficient))\n",
    "\n",
    "BezierCurve = tuple(\n",
    "    tuple(sum(P[i][j]*bernstein for i,bernstein in enumerate(bernsteins))\n",
    "        for j in range(2))\n",
    "    for n,bernsteins in enumerate(BernsteinPolynomial))\n",
    "\n",
    "def green(f, Bezier=BezierCurve[n]):\n",
    "    f1 = -sp.integrate(sp.sympify(f), y)\n",
    "    f2 = f1.subs({x:Bezier[0], y:Bezier[1]})\n",
    "    return sp.integrate(f2 * sp.diff(Bezier[0], t), (t, 0, 1))\n",
    "\n",
    "class BezierFuncs(object):\n",
    "\n",
    "    def __init__(self, symfunc):\n",
    "        self._symfunc = symfunc\n",
    "        self._bezfuncs = {}\n",
    "\n",
    "    def __getitem__(self, i):\n",
    "        if i not in self._bezfuncs:\n",
    "            args = []\n",
    "            for d in range(i+1):\n",
    "                args.append('x%d' % d)\n",
    "                args.append('y%d' % d)\n",
    "            self._bezfuncs[i] = sp.lambdify(args, green(self._symfunc, Bezier=BezierCurve[i]))\n",
    "        return self._bezfuncs[i]\n",
    "\n",
    "_BezierFuncs = {}\n",
    "\n",
    "def getGreenBezierFuncs(func):\n",
    "    funcstr = str(func)\n",
    "    global _BezierFuncs\n",
    "    if not funcstr in _BezierFuncs:\n",
    "        _BezierFuncs[funcstr] = BezierFuncs(func)\n",
    "    return _BezierFuncs[funcstr]\n",
    "\n",
    "def printCache(func):\n",
    "    funcstr = str(func)\n",
    "    print(\"_BezierFuncs['%s'] = [\" % funcstr)\n",
    "    for i in range(n+1):\n",
    "        print('\tlambda P:', green(func, Bezier=BezierCurve[i]), ',')\n",
    "    print(']')\n",
    "\n",
    "class GreenPen(BasePen):\n",
    "\n",
    "    def __init__(self, func, glyphset=None):\n",
    "        BasePen.__init__(self, glyphset)\n",
    "        self._funcs = getGreenBezierFuncs(func)\n",
    "        self.value = 0\n",
    "\n",
    "    def _moveTo(self, p0):\n",
    "        self.__startPoint = p0\n",
    "\n",
    "    def _lineTo(self, p1):\n",
    "        p0 = self._getCurrentPoint()\n",
    "        self.value += self._funcs[1](p0[0],p0[1],p1[0],p1[1])\n",
    "\n",
    "    def _qCurveToOne(self, p1, p2):\n",
    "        p0 = self._getCurrentPoint()\n",
    "        self.value += self._funcs[2](p0[0],p0[1],p1[0],p1[1],p2[0],p2[1])\n",
    "\n",
    "    def _curveToOne(self, p1, p2, p3):\n",
    "        p0 = self._getCurrentPoint()\n",
    "        self.value += self._funcs[3](p0[0],p0[1],p1[0],p1[1],p2[0],p2[1],p3[0],p3[1])\n",
    "\n",
    "    def _closePath(self):\n",
    "        p0 = self._getCurrentPoint()\n",
    "        if p0 != self.__startPoint:\n",
    "            p1 = self.__startPoint\n",
    "            self.value += self._funcs[1](p0[0],p0[1],p1[0],p1[1])\n",
    "\n",
    "#AreaPen = partial(GreenPen, func=1)\n",
    "Moment1XPen = partial(GreenPen, func=x)\n",
    "Moment1YPen = partial(GreenPen, func=y)\n",
    "Moment2XXPen = partial(GreenPen, func=x*x)\n",
    "Moment2YYPen = partial(GreenPen, func=y*y)\n",
    "Moment2XYPen = partial(GreenPen, func=x*y)\n",
    "\n",
    "\n",
    "\n",
    "#\n",
    "# Glyph statistics object\n",
    "#\n",
    "\n",
    "class GlyphStatistics(object):\n",
    "\n",
    "    def __init__(self, glyph, transform=None, glyphset=None):\n",
    "        self._glyph = glyph\n",
    "        self._glyphset = glyphset\n",
    "        self._transform = transform\n",
    "\n",
    "    def _penAttr(self, attr):\n",
    "        internalName = '_'+attr\n",
    "        if internalName not in self.__dict__:\n",
    "            Pen = globals()[attr+'Pen']\n",
    "            pen = transformer = Pen(glyphset=self._glyphset)\n",
    "            if self._transform:\n",
    "                transformer = TransformPen(pen, self._transform)\n",
    "            self._glyph.draw(transformer)\n",
    "            self.__dict__[internalName] = pen.value\n",
    "        return self.__dict__[internalName]\n",
    "\n",
    "    Area = property(partial(_penAttr, attr='Area'))\n",
    "    Perimeter = property(partial(_penAttr, attr='Perimeter'))\n",
    "    Moment1X = property(partial(_penAttr, attr='Moment1X'))\n",
    "    Moment1Y = property(partial(_penAttr, attr='Moment1Y'))\n",
    "    Moment2XX = property(partial(_penAttr, attr='Moment2XX'))\n",
    "    Moment2YY = property(partial(_penAttr, attr='Moment2YY'))\n",
    "    Moment2XY = property(partial(_penAttr, attr='Moment2XY'))\n",
    "\n",
    "    # TODO Memoize properties below\n",
    "\n",
    "    # Center of mass\n",
    "    # https://en.wikipedia.org/wiki/Center_of_mass#A_continuous_volume\n",
    "    @property\n",
    "    def MeanX(self):\n",
    "        return self.Moment1X / self.Area\n",
    "    @property\n",
    "    def MeanY(self):\n",
    "        return self.Moment1Y / self.Area\n",
    "\n",
    "    # https://en.wikipedia.org/wiki/Second_moment_of_area\n",
    "\n",
    "    #  Var(X) = E[X^2] - E[X]^2\n",
    "    @property\n",
    "    def VarianceX(self):\n",
    "        return self.Moment2XX / self.Area - self.MeanX**2\n",
    "    @property\n",
    "    def VarianceY(self):\n",
    "        return self.Moment2YY / self.Area - self.MeanY**2\n",
    "\n",
    "    @property\n",
    "    def StdDevX(self):\n",
    "        return self.VarianceX**.5\n",
    "    @property\n",
    "    def StdDevY(self):\n",
    "        return self.VarianceY**.5\n",
    "\n",
    "    #  Covariance(X,Y) = ( E[X.Y] - E[X]E[Y] )\n",
    "    @property\n",
    "    def Covariance(self):\n",
    "        return self.Moment2XY / self.Area - self.MeanX*self.MeanY\n",
    "\n",
    "    @property\n",
    "    def _CovarianceMatrix(self):\n",
    "        cov = self.Covariance\n",
    "        return ((self.VarianceX, cov), (cov, self.VarianceY))\n",
    "\n",
    "    @property\n",
    "    def _Eigen(self):\n",
    "        mat = self.CovarianceMatrix\n",
    "        from numpy.linalg import eigh\n",
    "        vals,vecs = eigh(mat)\n",
    "        # Note: we return eigen-vectors row-major, unlike Matlab, et al\n",
    "        return tuple(vals), tuple(tuple(row) for row in vecs)\n",
    "\n",
    "    #  Correlation(X,Y) = Covariance(X,Y) / ( StdDev(X) * StdDev(Y)) )\n",
    "    # https://en.wikipedia.org/wiki/Pearson_product-moment_correlation_coefficient\n",
    "    @property\n",
    "    def Correlation(self):\n",
    "        corr = self.Covariance / (self.StdDevX * self.StdDevY)\n",
    "        if abs(corr) < 1e-3: corr = 0\n",
    "        return corr\n",
    "\n",
    "    @property\n",
    "    def Slant(self):\n",
    "        slant = self.Covariance / self.VarianceY\n",
    "        if abs(slant) < 1e-3: slant = 0\n",
    "        return slant\n",
    "\n",
    "\n",
    "def test(glyphset, upem, glyphs):\n",
    "    print('upem', upem)\n",
    "\n",
    "    for glyph_name in glyphs:\n",
    "        print()\n",
    "        print(\"glyph:\", glyph_name)\n",
    "        glyph = glyphset[glyph_name]\n",
    "        stats = GlyphStatistics(glyph, transform=Scale(1./upem), glyphset=glyphset)\n",
    "        for item in dir(stats):\n",
    "            if item[0] == '_': continue\n",
    "            print (\"%s: %g\" % (item, getattr(stats, item)))\n"
   ]
  },
  {
   "cell_type": "code",
   "execution_count": 25,
   "metadata": {
    "collapsed": false
   },
   "outputs": [
    {
     "name": "stdout",
     "output_type": "stream",
     "text": [
      "glyph: A\n",
      "Area: -0.119535\n",
      "Correlation: -0.00222877\n",
      "Covariance: -5.50465e-05\n",
      "MeanX: 0.317993\n",
      "MeanY: 0.295329\n",
      "Moment1X: -0.0380113\n",
      "Moment1Y: -0.0353022\n",
      "Moment2XX: -0.0146222\n",
      "Moment2XY: -0.0112193\n",
      "Moment2YY: -0.0138643\n",
      "Perimeter: 3.17191\n",
      "Slant: -0.0019136\n",
      "StdDevX: 0.145622\n",
      "StdDevY: 0.169605\n",
      "VarianceX: 0.0212057\n",
      "VarianceY: 0.0287659\n"
     ]
    }
   ],
   "source": [
    "from fontTools.pens.transformPen import TransformPen\n",
    "\n",
    "glyph_name = 'A'\n",
    "glyphset = font.getGlyphSet()\n",
    "upem = font['head'].unitsPerEm\n",
    "print(\"glyph:\", glyph_name)\n",
    "glyph = font.getGlyphSet()[glyph_name]\n",
    "stats = GlyphStatistics(glyph, transform=Scale(1./upem), glyphset=glyphset)\n",
    "for item in dir(stats):\n",
    "    if item[0] == '_': continue\n",
    "    print (\"%s: %g\" % (item, getattr(stats, item)))\n"
   ]
  },
  {
   "cell_type": "markdown",
   "metadata": {},
   "source": [
    "## Try the HDF5 File"
   ]
  },
  {
   "cell_type": "code",
   "execution_count": 27,
   "metadata": {
    "collapsed": false
   },
   "outputs": [
    {
     "name": "stdout",
     "output_type": "stream",
     "text": [
      "('List of arrays in this file: \\n', [u'fonts'])\n",
      "<HDF5 dataset \"fonts\": shape (56443, 62, 64, 64), type \"|u1\">\n",
      "(56443, 62, 64, 64)\n"
     ]
    }
   ],
   "source": [
    "import numpy as np\n",
    "import h5py\n",
    " \n",
    "with h5py.File('/home/agah/FontCase/fonts.hdf5','r') as hf:\n",
    "    print('List of arrays in this file: \\n', hf.keys())\n",
    "    data = hf.get('fonts')\n",
    "    print(data)\n",
    "    print(data.shape)\n",
    "    imgC = data[43611,2,:,:]\n",
    "    imgH = data[43611,7,:,:]"
   ]
  },
  {
   "cell_type": "code",
   "execution_count": 28,
   "metadata": {
    "collapsed": false
   },
   "outputs": [
    {
     "data": {
      "text/plain": [
       "<matplotlib.image.AxesImage at 0x7f0d683f1d10>"
      ]
     },
     "execution_count": 28,
     "metadata": {},
     "output_type": "execute_result"
    },
    {
     "data": {
      "image/png": "[encoded data removed]",
      "text/plain": [
       "<matplotlib.figure.Figure at 0x7f0d68536d10>"
      ]
     },
     "metadata": {},
     "output_type": "display_data"
    }
   ],
   "source": [
    "%matplotlib inline\n",
    "import matplotlib.pyplot as plt\n",
    "plt.imshow(imgC)"
   ]
  },
  {
   "cell_type": "code",
   "execution_count": 31,
   "metadata": {
    "collapsed": false
   },
   "outputs": [
    {
     "data": {
      "text/plain": [
       "<matplotlib.image.AxesImage at 0x7f0d68351f10>"
      ]
     },
     "execution_count": 31,
     "metadata": {},
     "output_type": "execute_result"
    },
    {
     "data": {
      "image/png": "[encoded data removed]",
      "text/plain": [
       "<matplotlib.figure.Figure at 0x7f0d68423f50>"
      ]
     },
     "metadata": {},
     "output_type": "display_data"
    }
   ],
   "source": [
    "plt.imshow(imgH)"
   ]
  },
  {
   "cell_type": "code",
   "execution_count": null,
   "metadata": {
    "collapsed": true
   },
   "outputs": [],
   "source": []
  }
 ],
 "metadata": {
  "kernelspec": {
   "display_name": "Python 2",
   "language": "python",
   "name": "python2"
  },
  "language_info": {
   "codemirror_mode": {
    "name": "ipython",
    "version": 2
   },
   "file_extension": ".py",
   "mimetype": "text/x-python",
   "name": "python",
   "nbconvert_exporter": "python",
   "pygments_lexer": "ipython2",
   "version": "2.7.12"
  }
 },
 "nbformat": 4,
 "nbformat_minor": 1
}
