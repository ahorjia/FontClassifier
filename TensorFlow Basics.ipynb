{
 "cells": [
  {
   "cell_type": "markdown",
   "metadata": {},
   "source": [
    "# First Contact withe TensorFlow\n",
    "http://jorditorres.eu/tensorflow/\n",
    "\n",
    "MNIST:\n",
    "http://yann.lecun.com/exdb/mnist\n",
    "\n",
    "Google Brain Team\n",
    "\n",
    "Numerical Computation using data flow graphs, nodes are mathematicla operations and edges are tesnors.\n",
    "\n",
    "Visual TensorBoard Module\n",
    "\n",
    "TensorFlow Serving:\n",
    "http://tensorflow.github.io/serving/\n",
    "\n",
    "Running TensorFlow Models in production:\n",
    "https://research.googleblog.com/2016/02/running-your-models-in-production-with.html?m=1\n",
    "\n"
   ]
  },
  {
   "cell_type": "markdown",
   "metadata": {
    "collapsed": true
   },
   "source": [
    "# TensorFlow Serving\n",
    "http://tensorflow.github.io/serving/serving_basic\n",
    "\n",
    "gRPC: open source RPC framework from google"
   ]
  },
  {
   "cell_type": "markdown",
   "metadata": {},
   "source": [
    "# Installation\n",
    "\n",
    "* sudo apt install python-pip python-dev python-virtualenv\n",
    "* virtualenv --system-site-packages ~/tensorflow\n",
    "* Activate: source ~/tensorflow/bin/activate\n",
    "* sudo apt-get install python-pip python-dev\n",
    "* sudo pip install --upgrade https://storage.googleapis.com/tensorflow/linux/cpu/tensorflow-0.8.0-cp27-none-linux_x86_64.whl\n",
    "* Test\n",
    "    * import tensorflow as tf\n",
    "    * hello = tf.constant('Hello, TensorFlow!')\n",
    "    * sess = tf.Session()\n",
    "    * print(sess.run(hello))\n",
    "    * Hello, TensorFlow!\n",
    "\n",
    "* deactivate"
   ]
  },
  {
   "cell_type": "markdown",
   "metadata": {
    "collapsed": true
   },
   "source": [
    "For interactive sessions\n",
    "\n",
    "tf.InteractiveSession() instead of tf.Session()"
   ]
  },
  {
   "cell_type": "markdown",
   "metadata": {
    "collapsed": true
   },
   "source": [
    "# Operations\n",
    "\n",
    "## Operation Groups\n",
    "\n",
    "### Math\n",
    "### Array\n",
    "### Matrix\n",
    "### Neural Networks\n",
    "### Checkpointing\n",
    "### Queues and Synchronization\n",
    "### Flow control"
   ]
  },
  {
   "cell_type": "markdown",
   "metadata": {},
   "source": [
    "# Tensorboard\n",
    "\n",
    "* tensorboard --logdir=trace file\n",
    "* http://localhost:6006"
   ]
  },
  {
   "cell_type": "markdown",
   "metadata": {},
   "source": [
    "# Linear Regression\n",
    "\n",
    "* 2-variables Simple Regression\n",
    "* n-variables multiple regression\n",
    "\n"
   ]
  },
  {
   "cell_type": "code",
   "execution_count": null,
   "metadata": {
    "collapsed": true
   },
   "outputs": [],
   "source": []
  }
 ],
 "metadata": {
  "anaconda-cloud": {},
  "kernelspec": {
   "display_name": "Python [Root]",
   "language": "python",
   "name": "Python [Root]"
  }
 },
 "nbformat": 4,
 "nbformat_minor": 1
}
